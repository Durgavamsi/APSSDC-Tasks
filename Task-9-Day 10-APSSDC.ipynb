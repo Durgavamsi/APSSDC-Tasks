{
 "cells": [
  {
   "cell_type": "markdown",
   "metadata": {},
   "source": [
    "# Task:\n",
    "- Generate 3-Digit OTP from 2 different Classes (Mail class and Phone Class)\n",
    "- return 6digit OTP from Baseclasses(super classes)"
   ]
  },
  {
   "cell_type": "code",
   "execution_count": 7,
   "metadata": {},
   "outputs": [],
   "source": [
    "import random\n"
   ]
  },
  {
   "cell_type": "code",
   "execution_count": 24,
   "metadata": {},
   "outputs": [],
   "source": [
    "class mail():\n",
    "    def __init__(self):\n",
    "        self.otp=random.randint(100,999)\n",
    "class phone():\n",
    "    def __init__(self):   \n",
    "        self.otp1=random.randint(100,999)\n",
    "class base(mail,phone):\n",
    "    def __init__(self):\n",
    "        mail.__init__(self)\n",
    "        phone.__init__(self)\n",
    "        print(\"The 6 digit otp is:---->\",str(self.otp)+str(self.otp1))"
   ]
  },
  {
   "cell_type": "code",
   "execution_count": 25,
   "metadata": {},
   "outputs": [
    {
     "name": "stdout",
     "output_type": "stream",
     "text": [
      "The 6 digit otp is:----> 392303\n"
     ]
    }
   ],
   "source": [
    "obj_b=base()"
   ]
  },
  {
   "cell_type": "code",
   "execution_count": null,
   "metadata": {},
   "outputs": [],
   "source": []
  },
  {
   "cell_type": "code",
   "execution_count": null,
   "metadata": {},
   "outputs": [],
   "source": []
  },
  {
   "cell_type": "code",
   "execution_count": null,
   "metadata": {},
   "outputs": [],
   "source": []
  }
 ],
 "metadata": {
  "kernelspec": {
   "display_name": "Python 3",
   "language": "python",
   "name": "python3"
  },
  "language_info": {
   "codemirror_mode": {
    "name": "ipython",
    "version": 3
   },
   "file_extension": ".py",
   "mimetype": "text/x-python",
   "name": "python",
   "nbconvert_exporter": "python",
   "pygments_lexer": "ipython3",
   "version": "3.7.3"
  }
 },
 "nbformat": 4,
 "nbformat_minor": 2
}
