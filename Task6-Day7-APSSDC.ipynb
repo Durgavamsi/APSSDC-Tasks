{
 "cells": [
  {
   "cell_type": "code",
   "execution_count": 5,
   "metadata": {},
   "outputs": [
    {
     "name": "stdout",
     "output_type": "stream",
     "text": [
      "9090\n",
      "1234\n"
     ]
    }
   ],
   "source": [
    "#1. Write a pattern to display 4 digit numbers from list\n",
    "import re\n",
    "list1 = {\"123456\",\"78934903\",\"12378\",\"1234\",\"6732145\",\"878788910\",\"45452565\",\"89899898\",\"9090\"}\n",
    "for i in list1:\n",
    "    if re.findall('^[0-9]{4}$',i):\n",
    "        print(i)"
   ]
  },
  {
   "cell_type": "code",
   "execution_count": 7,
   "metadata": {},
   "outputs": [
    {
     "name": "stdout",
     "output_type": "stream",
     "text": [
      "9014235991\n",
      "9393554086\n",
      "7013516975\n",
      "9848146567\n"
     ]
    }
   ],
   "source": [
    "#Validate a phone number uning numbers...\n",
    "import re\n",
    "ph_list=[\"9014235991\",\"9393554086\",\"7013516975\",\"9848146567\",\"123456789\"]\n",
    "for i in ph_list:\n",
    "    if re.findall('[6-9]{1}[0-9]{9}$',i):\n",
    "        print(i)"
   ]
  },
  {
   "cell_type": "code",
   "execution_count": null,
   "metadata": {},
   "outputs": [],
   "source": []
  }
 ],
 "metadata": {
  "kernelspec": {
   "display_name": "Python 3",
   "language": "python",
   "name": "python3"
  },
  "language_info": {
   "codemirror_mode": {
    "name": "ipython",
    "version": 3
   },
   "file_extension": ".py",
   "mimetype": "text/x-python",
   "name": "python",
   "nbconvert_exporter": "python",
   "pygments_lexer": "ipython3",
   "version": "3.7.3"
  }
 },
 "nbformat": 4,
 "nbformat_minor": 2
}
