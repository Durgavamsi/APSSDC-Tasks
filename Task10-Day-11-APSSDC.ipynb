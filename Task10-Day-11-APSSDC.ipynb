{
 "cells": [
  {
   "cell_type": "code",
   "execution_count": 1,
   "metadata": {},
   "outputs": [],
   "source": [
    "#program to create a file and read last five lines\n",
    "f=open('file.txt','w')\n",
    "f.close()"
   ]
  },
  {
   "cell_type": "code",
   "execution_count": 2,
   "metadata": {},
   "outputs": [],
   "source": [
    "f=open('file.txt','w')\n",
    "f1=f.write(\"Hello this is durgavamsi\")\n",
    "f.close()"
   ]
  },
  {
   "cell_type": "code",
   "execution_count": 3,
   "metadata": {},
   "outputs": [
    {
     "name": "stdout",
     "output_type": "stream",
     "text": [
      "Hello this is durgavamsi\n",
      "line 1\n",
      "line 2\n",
      "line 3\n",
      "line 4\n",
      "line 5\n",
      "line 6\n",
      "line 7\n",
      "line 8\n",
      "line 9\n",
      "line 10\n"
     ]
    }
   ],
   "source": [
    "f=open('file.txt','r')\n",
    "print(f.read())\n",
    "f.close()"
   ]
  },
  {
   "cell_type": "code",
   "execution_count": 4,
   "metadata": {},
   "outputs": [
    {
     "name": "stdout",
     "output_type": "stream",
     "text": [
      "line 6\n",
      "\n",
      "line 7\n",
      "\n",
      "line 8\n",
      "\n",
      "line 9\n",
      "\n",
      "line 10\n"
     ]
    }
   ],
   "source": [
    "f=open('file.txt','r')\n",
    "for i in(f.readlines()[-5:]):\n",
    "    print(i)\n",
    "f.close()"
   ]
  },
  {
   "cell_type": "code",
   "execution_count": 5,
   "metadata": {},
   "outputs": [],
   "source": [
    "#appending the lines in the file\n",
    "def append_1(data):\n",
    "    with open('file.txt','a') as f:\n",
    "        data = f.write(\"Hello, good night\")\n",
    "append_1(\"file.txt\")"
   ]
  },
  {
   "cell_type": "code",
   "execution_count": 8,
   "metadata": {},
   "outputs": [
    {
     "name": "stdout",
     "output_type": "stream",
     "text": [
      "Hello this is durgavamsi\n",
      "line 1\n",
      "line 2\n",
      "line 3\n",
      "line 4\n",
      "line 5\n",
      "line 6\n",
      "line 7\n",
      "line 8\n",
      "line 9\n",
      "line 10Hello, good night\n"
     ]
    }
   ],
   "source": [
    "f=open('file.txt','r')\n",
    "print(f.read())"
   ]
  },
  {
   "cell_type": "code",
   "execution_count": 9,
   "metadata": {},
   "outputs": [
    {
     "name": "stdout",
     "output_type": "stream",
     "text": [
      "Hello this is durgavamsi\n",
      "line 1\n",
      "line 2\n",
      "line 3\n",
      "line 4\n",
      "line 5\n",
      "line 6\n",
      "line 7\n",
      "line 8\n",
      "line 9\n",
      "line tenHello, good night\n"
     ]
    }
   ],
   "source": [
    "#Create a program for updating a word in the file\n",
    "import re\n",
    "with open( 'file.txt',\"r+\") as f:\n",
    "          text = f.read( )\n",
    "          text = re.sub( \"line 10\", \"line ten\", text)\n",
    "          f.seek(0)\n",
    "          f.write(text)\n",
    "          f.truncate( )\n",
    "f = open(\"file.txt\")\n",
    "print (f.read( ))"
   ]
  },
  {
   "cell_type": "code",
   "execution_count": null,
   "metadata": {},
   "outputs": [],
   "source": []
  }
 ],
 "metadata": {
  "kernelspec": {
   "display_name": "Python 3",
   "language": "python",
   "name": "python3"
  },
  "language_info": {
   "codemirror_mode": {
    "name": "ipython",
    "version": 3
   },
   "file_extension": ".py",
   "mimetype": "text/x-python",
   "name": "python",
   "nbconvert_exporter": "python",
   "pygments_lexer": "ipython3",
   "version": "3.7.3"
  }
 },
 "nbformat": 4,
 "nbformat_minor": 2
}
