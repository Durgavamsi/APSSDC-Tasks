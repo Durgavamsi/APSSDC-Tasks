{
 "cells": [
  {
   "cell_type": "markdown",
   "metadata": {},
   "source": [
    "#### Numpy has 11 Datatypes and the characters used to represent them are:*\n",
    "* integer - i\n",
    "* boolean - b\n",
    "* unsigned integer - u\n",
    "* float - f\n",
    "* complex float - c\n",
    "* timedelta - m\n",
    "* datatime - M\n",
    "* object - O\n",
    "* string - S\n",
    "* unicode string - U\n",
    "* fixed chunk of memory for other type (void) - V"
   ]
  },
  {
   "cell_type": "code",
   "execution_count": 23,
   "metadata": {},
   "outputs": [],
   "source": [
    "import numpy as np"
   ]
  },
  {
   "cell_type": "code",
   "execution_count": 24,
   "metadata": {},
   "outputs": [
    {
     "name": "stdout",
     "output_type": "stream",
     "text": [
      "[1 2 3 4 5 6 7 8]\n",
      "int32\n"
     ]
    }
   ],
   "source": [
    "#int\n",
    "a=np.array([1,2,3,4,5,6,7,8],dtype=int)\n",
    "print(a)\n",
    "print(a.dtype)"
   ]
  },
  {
   "cell_type": "code",
   "execution_count": 25,
   "metadata": {},
   "outputs": [
    {
     "name": "stdout",
     "output_type": "stream",
     "text": [
      "[1. 2. 3. 4. 5. 6. 7. 8.]\n",
      "float64\n"
     ]
    }
   ],
   "source": [
    "#Float\n",
    "a=np.array([1,2,3,4,5,6,7,8],dtype=float)\n",
    "print(a)\n",
    "print(a.dtype)"
   ]
  },
  {
   "cell_type": "code",
   "execution_count": 26,
   "metadata": {},
   "outputs": [
    {
     "name": "stdout",
     "output_type": "stream",
     "text": [
      "['1' '2' '3' '4' '5' '6' '7' '8']\n",
      "<U1\n"
     ]
    }
   ],
   "source": [
    "#String\n",
    "a=np.array([1,2,3,4,5,6,7,8],dtype=str)\n",
    "print(a)\n",
    "print(a.dtype)"
   ]
  },
  {
   "cell_type": "code",
   "execution_count": 27,
   "metadata": {},
   "outputs": [
    {
     "name": "stdout",
     "output_type": "stream",
     "text": [
      "[1.+0.j 2.+0.j 3.+0.j 4.+0.j 5.+0.j 6.+0.j 7.+0.j 8.+0.j]\n",
      "complex128\n"
     ]
    }
   ],
   "source": [
    "#complex\n",
    "a=np.array([1,2,3,4,5,6,7,8],dtype=complex)\n",
    "print(a)\n",
    "print(a.dtype)"
   ]
  },
  {
   "cell_type": "code",
   "execution_count": 28,
   "metadata": {},
   "outputs": [
    {
     "name": "stdout",
     "output_type": "stream",
     "text": [
      "[ True  True  True  True  True  True  True  True]\n",
      "bool\n"
     ]
    }
   ],
   "source": [
    "#Boolean\n",
    "a=np.array([1,2,3,4,5,6,7,8],dtype='bool_')\n",
    "print(a)\n",
    "print(a.dtype)"
   ]
  },
  {
   "cell_type": "code",
   "execution_count": 29,
   "metadata": {},
   "outputs": [
    {
     "name": "stdout",
     "output_type": "stream",
     "text": [
      "[1 2 3 4 5 6 7 8]\n",
      "uint32\n"
     ]
    }
   ],
   "source": [
    "#Unsigned Integer\n",
    "a=np.array([1,2,3,4,5,6,7,8],dtype='uint')\n",
    "print(a)\n",
    "print(a.dtype)"
   ]
  },
  {
   "cell_type": "code",
   "execution_count": 30,
   "metadata": {},
   "outputs": [
    {
     "name": "stdout",
     "output_type": "stream",
     "text": [
      "[1 2 3 4 5 6 7 8]\n",
      "object\n"
     ]
    }
   ],
   "source": [
    "#For object\n",
    "a=np.array([1,2,3,4,5,6,7,8],dtype='O')\n",
    "print(a)\n",
    "print(a.dtype)"
   ]
  },
  {
   "cell_type": "code",
   "execution_count": 31,
   "metadata": {},
   "outputs": [
    {
     "name": "stdout",
     "output_type": "stream",
     "text": [
      "10 months\n"
     ]
    }
   ],
   "source": [
    "#timedelta\n",
    "x=np.timedelta64(10, 'M')\n",
    "print(x)"
   ]
  },
  {
   "cell_type": "code",
   "execution_count": 32,
   "metadata": {},
   "outputs": [
    {
     "data": {
      "text/plain": [
       "array(['2023-05-15', '2002-05-15', '2001-08-08'], dtype='datetime64[D]')"
      ]
     },
     "execution_count": 32,
     "metadata": {},
     "output_type": "execute_result"
    }
   ],
   "source": [
    "#datetime\n",
    "x=np.array(['2023-05-15', '2002-05-15', '2001-08-08'], dtype='datetime64')\n",
    "x"
   ]
  },
  {
   "cell_type": "code",
   "execution_count": 33,
   "metadata": {},
   "outputs": [
    {
     "data": {
      "text/plain": [
       "array(['μm', '∂r', '∆λ'], dtype='<U2')"
      ]
     },
     "execution_count": 33,
     "metadata": {},
     "output_type": "execute_result"
    }
   ],
   "source": [
    "#unicode string\n",
    "x = np.array([u'\\u03bcm', u'\\u2202r', u'\\u2206\\u03bb'], dtype='U')\n",
    "x"
   ]
  },
  {
   "cell_type": "code",
   "execution_count": 34,
   "metadata": {},
   "outputs": [
    {
     "data": {
      "text/plain": [
       "array([], dtype='|V8')"
      ]
     },
     "execution_count": 34,
     "metadata": {},
     "output_type": "execute_result"
    }
   ],
   "source": [
    "#void\n",
    "x=np.void([], dtype='V')\n",
    "x"
   ]
  },
  {
   "cell_type": "code",
   "execution_count": 35,
   "metadata": {},
   "outputs": [
    {
     "name": "stdout",
     "output_type": "stream",
     "text": [
      "[1.+8.j 2.+5.j 6.+1.j]\n"
     ]
    },
    {
     "data": {
      "text/plain": [
       "dtype('complex128')"
      ]
     },
     "execution_count": 35,
     "metadata": {},
     "output_type": "execute_result"
    }
   ],
   "source": [
    "#complex float ex-2\n",
    "a=np.array([1+8j,2+5j,6+1j])\n",
    "print(a)\n",
    "a.dtype"
   ]
  },
  {
   "cell_type": "code",
   "execution_count": null,
   "metadata": {},
   "outputs": [],
   "source": []
  }
 ],
 "metadata": {
  "kernelspec": {
   "display_name": "Python 3",
   "language": "python",
   "name": "python3"
  },
  "language_info": {
   "codemirror_mode": {
    "name": "ipython",
    "version": 3
   },
   "file_extension": ".py",
   "mimetype": "text/x-python",
   "name": "python",
   "nbconvert_exporter": "python",
   "pygments_lexer": "ipython3",
   "version": "3.7.3"
  }
 },
 "nbformat": 4,
 "nbformat_minor": 2
}
