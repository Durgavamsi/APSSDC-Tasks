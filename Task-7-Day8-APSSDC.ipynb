{
 "cells": [
  {
   "cell_type": "code",
   "execution_count": 4,
   "metadata": {},
   "outputs": [
    {
     "name": "stdout",
     "output_type": "stream",
     "text": [
      "1800\n",
      "2021\n",
      "1804\t1808\t1812\t1816\t1820\t1824\t1828\t1832\t1836\t1840\t1844\t1848\t1852\t1856\t1860\t1864\t1868\t1872\t1876\t1880\t1884\t1888\t1892\t1896\t1904\t1908\t1912\t1916\t1920\t1924\t1928\t1932\t1936\t1940\t1944\t1948\t1952\t1956\t1960\t1964\t1968\t1972\t1976\t1980\t1984\t1988\t1992\t1996\t2000\t2004\t2008\t2012\t2016\t2020\t"
     ]
    }
   ],
   "source": [
    "#create a function for finding the leap years with in the given range\n",
    "def leap():\n",
    "    a=int(input())\n",
    "    b=int(input())\n",
    "    for i in range(a,b):\n",
    "        if(i%4==0 and i%100!=0)or(i%400==0):\n",
    "            print(i,end=\"\\t\")\n",
    "leap()"
   ]
  },
  {
   "cell_type": "code",
   "execution_count": 12,
   "metadata": {},
   "outputs": [
    {
     "name": "stdout",
     "output_type": "stream",
     "text": [
      "1\n",
      "160\n",
      "1\n",
      "64\n",
      "125\n",
      "153\n"
     ]
    }
   ],
   "source": [
    "#create a function that displays the armstrong numbers with in the given range.\n",
    "def armstrong():\n",
    "    a = int(input())  \n",
    "    b = int(input()) \n",
    "    for i in range(a,b):\n",
    "        sum=0\n",
    "        t=i\n",
    "        while t>0:\n",
    "            digit=t%10\n",
    "            sum=sum+digit**3\n",
    "            t=t//10\n",
    "            if i==sum:\n",
    "                print(i)\n",
    "armstrong()\n",
    "  \n",
    "    "
   ]
  },
  {
   "cell_type": "code",
   "execution_count": 57,
   "metadata": {},
   "outputs": [
    {
     "name": "stdout",
     "output_type": "stream",
     "text": [
      "Enter starting range :1\n",
      "Enter ending range :100\n",
      "2 3 5 7 11 13 17 19 23 29 31 37 41 43 47 53 59 61 67 71 73 79 83 89 97 "
     ]
    }
   ],
   "source": [
    "#print the prime numbers between the given range...\n",
    "def prime(s,e):\n",
    "    \n",
    "    for n in range(s,e+1):\n",
    "        if n >1:\n",
    "            for i in range(2,n):\n",
    "                if (n % i) ==0:\n",
    "                    break\n",
    "            else:\n",
    "                print(n,end=\" \")\n",
    "s = int(input(\"Enter starting range :\"))\n",
    "e = int(input(\"Enter ending range :\"))\n",
    "prime(s,e)"
   ]
  },
  {
   "cell_type": "code",
   "execution_count": 58,
   "metadata": {},
   "outputs": [
    {
     "name": "stdout",
     "output_type": "stream",
     "text": [
      "durgavamsi\n"
     ]
    },
    {
     "data": {
      "text/plain": [
       "{'d': 1, 'u': 1, 'r': 1, 'g': 1, 'a': 2, 'v': 1, 'm': 1, 's': 1, 'i': 1}"
      ]
     },
     "execution_count": 58,
     "metadata": {},
     "output_type": "execute_result"
    }
   ],
   "source": [
    "def count():\n",
    "    a=input()\n",
    "    b={}\n",
    "    for i in a:\n",
    "        if i in b:\n",
    "            b[i]=b[i]+1\n",
    "        else:\n",
    "            b[i]=1\n",
    "    return b\n",
    "            \n",
    "count()"
   ]
  },
  {
   "cell_type": "code",
   "execution_count": null,
   "metadata": {},
   "outputs": [],
   "source": []
  },
  {
   "cell_type": "code",
   "execution_count": null,
   "metadata": {},
   "outputs": [],
   "source": [
    "   "
   ]
  },
  {
   "cell_type": "code",
   "execution_count": null,
   "metadata": {},
   "outputs": [],
   "source": []
  }
 ],
 "metadata": {
  "kernelspec": {
   "display_name": "Python 3",
   "language": "python",
   "name": "python3"
  },
  "language_info": {
   "codemirror_mode": {
    "name": "ipython",
    "version": 3
   },
   "file_extension": ".py",
   "mimetype": "text/x-python",
   "name": "python",
   "nbconvert_exporter": "python",
   "pygments_lexer": "ipython3",
   "version": "3.7.3"
  }
 },
 "nbformat": 4,
 "nbformat_minor": 2
}
